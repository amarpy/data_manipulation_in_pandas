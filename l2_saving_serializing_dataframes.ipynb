{
 "metadata": {
  "language_info": {
   "codemirror_mode": {
    "name": "ipython",
    "version": 3
   },
   "file_extension": ".py",
   "mimetype": "text/x-python",
   "name": "python",
   "nbconvert_exporter": "python",
   "pygments_lexer": "ipython3",
   "version": "3.8.6-final"
  },
  "orig_nbformat": 2,
  "kernelspec": {
   "name": "python3",
   "display_name": "Python 3",
   "language": "python"
  }
 },
 "nbformat": 4,
 "nbformat_minor": 2,
 "cells": [
  {
   "source": [
    "# Saving and serializing dataframes"
   ],
   "cell_type": "markdown",
   "metadata": {}
  },
  {
   "cell_type": "code",
   "execution_count": 1,
   "metadata": {},
   "outputs": [],
   "source": [
    "import pandas as pd \n",
    "import numpy as np "
   ]
  },
  {
   "cell_type": "code",
   "execution_count": 2,
   "metadata": {},
   "outputs": [
    {
     "output_type": "execute_result",
     "data": {
      "text/plain": [
       "          A         B         C         D\n",
       "0  0.976171  0.353417  0.061965  0.962934\n",
       "1  0.835758  0.613065  0.962259  0.586463\n",
       "2  0.466375  0.441724  0.782999  0.666104\n",
       "3  0.457983  0.657034  0.824445  0.485559\n",
       "4  0.176266  0.859655  0.352390  0.892092"
      ],
      "text/html": "<div>\n<style scoped>\n    .dataframe tbody tr th:only-of-type {\n        vertical-align: middle;\n    }\n\n    .dataframe tbody tr th {\n        vertical-align: top;\n    }\n\n    .dataframe thead th {\n        text-align: right;\n    }\n</style>\n<table border=\"1\" class=\"dataframe\">\n  <thead>\n    <tr style=\"text-align: right;\">\n      <th></th>\n      <th>A</th>\n      <th>B</th>\n      <th>C</th>\n      <th>D</th>\n    </tr>\n  </thead>\n  <tbody>\n    <tr>\n      <th>0</th>\n      <td>0.976171</td>\n      <td>0.353417</td>\n      <td>0.061965</td>\n      <td>0.962934</td>\n    </tr>\n    <tr>\n      <th>1</th>\n      <td>0.835758</td>\n      <td>0.613065</td>\n      <td>0.962259</td>\n      <td>0.586463</td>\n    </tr>\n    <tr>\n      <th>2</th>\n      <td>0.466375</td>\n      <td>0.441724</td>\n      <td>0.782999</td>\n      <td>0.666104</td>\n    </tr>\n    <tr>\n      <th>3</th>\n      <td>0.457983</td>\n      <td>0.657034</td>\n      <td>0.824445</td>\n      <td>0.485559</td>\n    </tr>\n    <tr>\n      <th>4</th>\n      <td>0.176266</td>\n      <td>0.859655</td>\n      <td>0.352390</td>\n      <td>0.892092</td>\n    </tr>\n  </tbody>\n</table>\n</div>"
     },
     "metadata": {},
     "execution_count": 2
    }
   ],
   "source": [
    "df = pd.DataFrame(np.random.random(size = (10000, 4)), columns=[\"A\", \"B\", \"C\", \"D\"])\n",
    "df.head()"
   ]
  },
  {
   "cell_type": "code",
   "execution_count": 3,
   "metadata": {},
   "outputs": [],
   "source": [
    "df.to_csv(\"save.csv\", float_format=\"%0.4f\")"
   ]
  },
  {
   "cell_type": "code",
   "execution_count": 4,
   "metadata": {},
   "outputs": [],
   "source": [
    "df.to_pickle(\"save.pkl\")"
   ]
  },
  {
   "cell_type": "code",
   "execution_count": 7,
   "metadata": {},
   "outputs": [
    {
     "output_type": "stream",
     "name": "stdout",
     "text": [
      " Volume in drive C is NetApp_Win10\n Volume Serial Number is 66EF-20AB\n\n Directory of c:\\Users\\samarnat\\Documents\\Learning\\Analytics\\ML\\PANDAS\n\n01/08/2021  02:20 PM    <DIR>          .\n01/08/2021  02:20 PM    <DIR>          ..\n01/08/2021  02:15 PM             6,835 creating_dataframes.ipynb\n01/08/2021  01:11 PM    <DIR>          P87-Section-2-Dataset-Basics-Resources\n01/08/2021  01:11 PM    <DIR>          P87-Section-3-Visual-Exploration-Resources\n01/08/2021  01:11 PM    <DIR>          P87-Section-4-Basic-Data-Manipulations-Resources\n01/08/2021  01:11 PM    <DIR>          P87-Section-5-Grouping-Resources\n01/08/2021  01:12 PM    <DIR>          P87-Section-6-Merging-Resources\n01/08/2021  01:12 PM    <DIR>          P87-Section-7-Advanced-Manipulation-Resources\n01/08/2021  01:12 PM    <DIR>          P87-Section-8-Time-Series-Resources\n01/08/2021  01:11 PM    <DIR>          P87-Section-9-Conclusion-Resources\n01/08/2021  02:19 PM           338,900 save.csv\n01/08/2021  02:20 PM           320,745 save.pkl\n01/08/2021  02:18 PM             2,789 saving_serializing_dataframes.ipynb\n               4 File(s)        669,269 bytes\n              10 Dir(s)  121,727,725,568 bytes free\n"
     ]
    }
   ],
   "source": [
    "%ls"
   ]
  },
  {
   "cell_type": "code",
   "execution_count": null,
   "metadata": {},
   "outputs": [],
   "source": []
  }
 ]
}