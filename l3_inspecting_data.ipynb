{
 "metadata": {
  "language_info": {
   "codemirror_mode": {
    "name": "ipython",
    "version": 3
   },
   "file_extension": ".py",
   "mimetype": "text/x-python",
   "name": "python",
   "nbconvert_exporter": "python",
   "pygments_lexer": "ipython3",
   "version": "3.8.6-final"
  },
  "orig_nbformat": 2,
  "kernelspec": {
   "name": "python3",
   "display_name": "Python 3",
   "language": "python"
  }
 },
 "nbformat": 4,
 "nbformat_minor": 2,
 "cells": [
  {
   "source": [
    "# Inspecting data"
   ],
   "cell_type": "markdown",
   "metadata": {}
  },
  {
   "cell_type": "code",
   "execution_count": 1,
   "metadata": {},
   "outputs": [],
   "source": [
    "import pandas as pd \n",
    "import numpy as np "
   ]
  },
  {
   "cell_type": "code",
   "execution_count": 4,
   "metadata": {},
   "outputs": [
    {
     "output_type": "execute_result",
     "data": {
      "text/plain": [
       "               Name    Year  Group   Status Birth Date    Birth Place Gender  \\\n",
       "0   Joseph M. Acaba  2004.0   19.0   Active  5/17/1967  Inglewood, CA   Male   \n",
       "1    Loren W. Acton     NaN    NaN  Retired   3/7/1936   Lewiston, MT   Male   \n",
       "2  James C. Adamson  1984.0   10.0  Retired   3/3/1946     Warsaw, NY   Male   \n",
       "3   Thomas D. Akers  1987.0   12.0  Retired  5/20/1951  St. Louis, MO   Male   \n",
       "4       Buzz Aldrin  1963.0    3.0  Retired  1/20/1930  Montclair, NJ   Male   \n",
       "\n",
       "                                          Alma Mater     Undergraduate Major  \\\n",
       "0  University of California-Santa Barbara; Univer...                 Geology   \n",
       "1   Montana State University; University of Colorado     Engineering Physics   \n",
       "2          US Military Academy; Princeton University             Engineering   \n",
       "3                       University of Missouri-Rolla     Applied Mathematics   \n",
       "4                           US Military Academy; MIT  Mechanical Engineering   \n",
       "\n",
       "          Graduate Major Military Rank         Military Branch  Space Flights  \\\n",
       "0                Geology           NaN                     NaN              2   \n",
       "1          Solar Physics           NaN                     NaN              1   \n",
       "2  Aerospace Engineering       Colonel       US Army (Retired)              2   \n",
       "3    Applied Mathematics       Colonel  US Air Force (Retired)              4   \n",
       "4           Astronautics       Colonel  US Air Force (Retired)              2   \n",
       "\n",
       "   Space Flight (hr)  Space Walks  Space Walks (hr)  \\\n",
       "0               3307            2              13.0   \n",
       "1                190            0               0.0   \n",
       "2                334            0               0.0   \n",
       "3                814            4              29.0   \n",
       "4                289            2               8.0   \n",
       "\n",
       "                                            Missions Death Date Death Mission  \n",
       "0             STS-119 (Discovery), ISS-31/32 (Soyuz)        NaN           NaN  \n",
       "1                              STS 51-F (Challenger)        NaN           NaN  \n",
       "2               STS-28 (Columbia), STS-43 (Atlantis)        NaN           NaN  \n",
       "3  STS-41 (Discovery), STS-49 (Endeavor), STS-61 ...        NaN           NaN  \n",
       "4                               Gemini 12, Apollo 11        NaN           NaN  "
      ],
      "text/html": "<div>\n<style scoped>\n    .dataframe tbody tr th:only-of-type {\n        vertical-align: middle;\n    }\n\n    .dataframe tbody tr th {\n        vertical-align: top;\n    }\n\n    .dataframe thead th {\n        text-align: right;\n    }\n</style>\n<table border=\"1\" class=\"dataframe\">\n  <thead>\n    <tr style=\"text-align: right;\">\n      <th></th>\n      <th>Name</th>\n      <th>Year</th>\n      <th>Group</th>\n      <th>Status</th>\n      <th>Birth Date</th>\n      <th>Birth Place</th>\n      <th>Gender</th>\n      <th>Alma Mater</th>\n      <th>Undergraduate Major</th>\n      <th>Graduate Major</th>\n      <th>Military Rank</th>\n      <th>Military Branch</th>\n      <th>Space Flights</th>\n      <th>Space Flight (hr)</th>\n      <th>Space Walks</th>\n      <th>Space Walks (hr)</th>\n      <th>Missions</th>\n      <th>Death Date</th>\n      <th>Death Mission</th>\n    </tr>\n  </thead>\n  <tbody>\n    <tr>\n      <th>0</th>\n      <td>Joseph M. Acaba</td>\n      <td>2004.0</td>\n      <td>19.0</td>\n      <td>Active</td>\n      <td>5/17/1967</td>\n      <td>Inglewood, CA</td>\n      <td>Male</td>\n      <td>University of California-Santa Barbara; Univer...</td>\n      <td>Geology</td>\n      <td>Geology</td>\n      <td>NaN</td>\n      <td>NaN</td>\n      <td>2</td>\n      <td>3307</td>\n      <td>2</td>\n      <td>13.0</td>\n      <td>STS-119 (Discovery), ISS-31/32 (Soyuz)</td>\n      <td>NaN</td>\n      <td>NaN</td>\n    </tr>\n    <tr>\n      <th>1</th>\n      <td>Loren W. Acton</td>\n      <td>NaN</td>\n      <td>NaN</td>\n      <td>Retired</td>\n      <td>3/7/1936</td>\n      <td>Lewiston, MT</td>\n      <td>Male</td>\n      <td>Montana State University; University of Colorado</td>\n      <td>Engineering Physics</td>\n      <td>Solar Physics</td>\n      <td>NaN</td>\n      <td>NaN</td>\n      <td>1</td>\n      <td>190</td>\n      <td>0</td>\n      <td>0.0</td>\n      <td>STS 51-F (Challenger)</td>\n      <td>NaN</td>\n      <td>NaN</td>\n    </tr>\n    <tr>\n      <th>2</th>\n      <td>James C. Adamson</td>\n      <td>1984.0</td>\n      <td>10.0</td>\n      <td>Retired</td>\n      <td>3/3/1946</td>\n      <td>Warsaw, NY</td>\n      <td>Male</td>\n      <td>US Military Academy; Princeton University</td>\n      <td>Engineering</td>\n      <td>Aerospace Engineering</td>\n      <td>Colonel</td>\n      <td>US Army (Retired)</td>\n      <td>2</td>\n      <td>334</td>\n      <td>0</td>\n      <td>0.0</td>\n      <td>STS-28 (Columbia), STS-43 (Atlantis)</td>\n      <td>NaN</td>\n      <td>NaN</td>\n    </tr>\n    <tr>\n      <th>3</th>\n      <td>Thomas D. Akers</td>\n      <td>1987.0</td>\n      <td>12.0</td>\n      <td>Retired</td>\n      <td>5/20/1951</td>\n      <td>St. Louis, MO</td>\n      <td>Male</td>\n      <td>University of Missouri-Rolla</td>\n      <td>Applied Mathematics</td>\n      <td>Applied Mathematics</td>\n      <td>Colonel</td>\n      <td>US Air Force (Retired)</td>\n      <td>4</td>\n      <td>814</td>\n      <td>4</td>\n      <td>29.0</td>\n      <td>STS-41 (Discovery), STS-49 (Endeavor), STS-61 ...</td>\n      <td>NaN</td>\n      <td>NaN</td>\n    </tr>\n    <tr>\n      <th>4</th>\n      <td>Buzz Aldrin</td>\n      <td>1963.0</td>\n      <td>3.0</td>\n      <td>Retired</td>\n      <td>1/20/1930</td>\n      <td>Montclair, NJ</td>\n      <td>Male</td>\n      <td>US Military Academy; MIT</td>\n      <td>Mechanical Engineering</td>\n      <td>Astronautics</td>\n      <td>Colonel</td>\n      <td>US Air Force (Retired)</td>\n      <td>2</td>\n      <td>289</td>\n      <td>2</td>\n      <td>8.0</td>\n      <td>Gemini 12, Apollo 11</td>\n      <td>NaN</td>\n      <td>NaN</td>\n    </tr>\n  </tbody>\n</table>\n</div>"
     },
     "metadata": {},
     "execution_count": 4
    }
   ],
   "source": [
    "df = pd.read_csv(\"P87-Section-2-Dataset-Basics-Resources\\\\P87-S2-Dataset-Basics-Resources\\\\astronauts.csv\")\n",
    "df.head()"
   ]
  },
  {
   "cell_type": "code",
   "execution_count": 5,
   "metadata": {},
   "outputs": [
    {
     "output_type": "execute_result",
     "data": {
      "text/plain": [
       "                    Name    Year  Group      Status Birth Date    Birth Place  \\\n",
       "2       James C. Adamson  1984.0   10.0     Retired   3/3/1946     Warsaw, NY   \n",
       "207      Stanley G. Love  1998.0   17.0  Management   6/8/1965  San Diego, CA   \n",
       "97   Joe F. Edwards Jr.   1995.0   15.0     Retired   2/3/1958   Richmond, VA   \n",
       "\n",
       "    Gender                                         Alma Mater  \\\n",
       "2     Male          US Military Academy; Princeton University   \n",
       "207   Male      Harvey Mudd College; University of Washington   \n",
       "97    Male  US Naval Academy; University of Tennessee-Knox...   \n",
       "\n",
       "       Undergraduate Major         Graduate Major Military Rank  \\\n",
       "2              Engineering  Aerospace Engineering       Colonel   \n",
       "207                Physics              Astronomy           NaN   \n",
       "97   Aerospace Engineering       Aviation Systems     Commander   \n",
       "\n",
       "       Military Branch  Space Flights  Space Flight (hr)  Space Walks  \\\n",
       "2    US Army (Retired)              2                334            0   \n",
       "207                NaN              1                306            2   \n",
       "97   US Navy (Retired)              1                211            0   \n",
       "\n",
       "     Space Walks (hr)                              Missions Death Date  \\\n",
       "2                 0.0  STS-28 (Columbia), STS-43 (Atlantis)        NaN   \n",
       "207              15.0                    STS-122 (Atlantis)        NaN   \n",
       "97                0.0                     STS-89 (Endeavor)        NaN   \n",
       "\n",
       "    Death Mission  \n",
       "2             NaN  \n",
       "207           NaN  \n",
       "97            NaN  "
      ],
      "text/html": "<div>\n<style scoped>\n    .dataframe tbody tr th:only-of-type {\n        vertical-align: middle;\n    }\n\n    .dataframe tbody tr th {\n        vertical-align: top;\n    }\n\n    .dataframe thead th {\n        text-align: right;\n    }\n</style>\n<table border=\"1\" class=\"dataframe\">\n  <thead>\n    <tr style=\"text-align: right;\">\n      <th></th>\n      <th>Name</th>\n      <th>Year</th>\n      <th>Group</th>\n      <th>Status</th>\n      <th>Birth Date</th>\n      <th>Birth Place</th>\n      <th>Gender</th>\n      <th>Alma Mater</th>\n      <th>Undergraduate Major</th>\n      <th>Graduate Major</th>\n      <th>Military Rank</th>\n      <th>Military Branch</th>\n      <th>Space Flights</th>\n      <th>Space Flight (hr)</th>\n      <th>Space Walks</th>\n      <th>Space Walks (hr)</th>\n      <th>Missions</th>\n      <th>Death Date</th>\n      <th>Death Mission</th>\n    </tr>\n  </thead>\n  <tbody>\n    <tr>\n      <th>2</th>\n      <td>James C. Adamson</td>\n      <td>1984.0</td>\n      <td>10.0</td>\n      <td>Retired</td>\n      <td>3/3/1946</td>\n      <td>Warsaw, NY</td>\n      <td>Male</td>\n      <td>US Military Academy; Princeton University</td>\n      <td>Engineering</td>\n      <td>Aerospace Engineering</td>\n      <td>Colonel</td>\n      <td>US Army (Retired)</td>\n      <td>2</td>\n      <td>334</td>\n      <td>0</td>\n      <td>0.0</td>\n      <td>STS-28 (Columbia), STS-43 (Atlantis)</td>\n      <td>NaN</td>\n      <td>NaN</td>\n    </tr>\n    <tr>\n      <th>207</th>\n      <td>Stanley G. Love</td>\n      <td>1998.0</td>\n      <td>17.0</td>\n      <td>Management</td>\n      <td>6/8/1965</td>\n      <td>San Diego, CA</td>\n      <td>Male</td>\n      <td>Harvey Mudd College; University of Washington</td>\n      <td>Physics</td>\n      <td>Astronomy</td>\n      <td>NaN</td>\n      <td>NaN</td>\n      <td>1</td>\n      <td>306</td>\n      <td>2</td>\n      <td>15.0</td>\n      <td>STS-122 (Atlantis)</td>\n      <td>NaN</td>\n      <td>NaN</td>\n    </tr>\n    <tr>\n      <th>97</th>\n      <td>Joe F. Edwards Jr.</td>\n      <td>1995.0</td>\n      <td>15.0</td>\n      <td>Retired</td>\n      <td>2/3/1958</td>\n      <td>Richmond, VA</td>\n      <td>Male</td>\n      <td>US Naval Academy; University of Tennessee-Knox...</td>\n      <td>Aerospace Engineering</td>\n      <td>Aviation Systems</td>\n      <td>Commander</td>\n      <td>US Navy (Retired)</td>\n      <td>1</td>\n      <td>211</td>\n      <td>0</td>\n      <td>0.0</td>\n      <td>STS-89 (Endeavor)</td>\n      <td>NaN</td>\n      <td>NaN</td>\n    </tr>\n  </tbody>\n</table>\n</div>"
     },
     "metadata": {},
     "execution_count": 5
    }
   ],
   "source": [
    "# random sample of data\n",
    "\n",
    "df.sample(3)"
   ]
  },
  {
   "cell_type": "code",
   "execution_count": 6,
   "metadata": {},
   "outputs": [
    {
     "output_type": "execute_result",
     "data": {
      "text/plain": [
       "                          Name    Year  Group    Status  Birth Date  \\\n",
       "58   Manley Lanier Carter Jr.   1984.0   10.0  Deceased   8/15/1947   \n",
       "6              Joseph P. Allen  1967.0    6.0   Retired   6/27/1937   \n",
       "308            Nicole P. Stott  2000.0   18.0    Active  11/19/1962   \n",
       "\n",
       "             Birth Place  Gender  \\\n",
       "58             Macon, GA    Male   \n",
       "6    Crawsfordsville, IN    Male   \n",
       "308           Albany, NY  Female   \n",
       "\n",
       "                                            Alma Mater  \\\n",
       "58                                    Emory University   \n",
       "6                   DePauw University; Yale University   \n",
       "308  Embry-Riddle Aeronautical University; Universi...   \n",
       "\n",
       "          Undergraduate Major          Graduate Major Military Rank  \\\n",
       "58                  Chemistry                Medicine       Captain   \n",
       "6       Mathematics & Physics                 Physics           NaN   \n",
       "308  Aeronautical Engineering  Engineering Management           NaN   \n",
       "\n",
       "    Military Branch  Space Flights  Space Flight (hr)  Space Walks  \\\n",
       "58          US Navy              1                120            0   \n",
       "6               NaN              2                313            2   \n",
       "308             NaN              2               2477            1   \n",
       "\n",
       "     Space Walks (hr)                                           Missions  \\\n",
       "58                0.0                                 STS-33 (Discovery)   \n",
       "6                12.0              ST-5 (Columbia), STS 51-A (Discovery)   \n",
       "308               6.0  STS-128/129 (Discovery/Atlantis), STS-133 (Dis...   \n",
       "\n",
       "    Death Date Death Mission  \n",
       "58    4/5/1991           NaN  \n",
       "6          NaN           NaN  \n",
       "308        NaN           NaN  "
      ],
      "text/html": "<div>\n<style scoped>\n    .dataframe tbody tr th:only-of-type {\n        vertical-align: middle;\n    }\n\n    .dataframe tbody tr th {\n        vertical-align: top;\n    }\n\n    .dataframe thead th {\n        text-align: right;\n    }\n</style>\n<table border=\"1\" class=\"dataframe\">\n  <thead>\n    <tr style=\"text-align: right;\">\n      <th></th>\n      <th>Name</th>\n      <th>Year</th>\n      <th>Group</th>\n      <th>Status</th>\n      <th>Birth Date</th>\n      <th>Birth Place</th>\n      <th>Gender</th>\n      <th>Alma Mater</th>\n      <th>Undergraduate Major</th>\n      <th>Graduate Major</th>\n      <th>Military Rank</th>\n      <th>Military Branch</th>\n      <th>Space Flights</th>\n      <th>Space Flight (hr)</th>\n      <th>Space Walks</th>\n      <th>Space Walks (hr)</th>\n      <th>Missions</th>\n      <th>Death Date</th>\n      <th>Death Mission</th>\n    </tr>\n  </thead>\n  <tbody>\n    <tr>\n      <th>58</th>\n      <td>Manley Lanier Carter Jr.</td>\n      <td>1984.0</td>\n      <td>10.0</td>\n      <td>Deceased</td>\n      <td>8/15/1947</td>\n      <td>Macon, GA</td>\n      <td>Male</td>\n      <td>Emory University</td>\n      <td>Chemistry</td>\n      <td>Medicine</td>\n      <td>Captain</td>\n      <td>US Navy</td>\n      <td>1</td>\n      <td>120</td>\n      <td>0</td>\n      <td>0.0</td>\n      <td>STS-33 (Discovery)</td>\n      <td>4/5/1991</td>\n      <td>NaN</td>\n    </tr>\n    <tr>\n      <th>6</th>\n      <td>Joseph P. Allen</td>\n      <td>1967.0</td>\n      <td>6.0</td>\n      <td>Retired</td>\n      <td>6/27/1937</td>\n      <td>Crawsfordsville, IN</td>\n      <td>Male</td>\n      <td>DePauw University; Yale University</td>\n      <td>Mathematics &amp; Physics</td>\n      <td>Physics</td>\n      <td>NaN</td>\n      <td>NaN</td>\n      <td>2</td>\n      <td>313</td>\n      <td>2</td>\n      <td>12.0</td>\n      <td>ST-5 (Columbia), STS 51-A (Discovery)</td>\n      <td>NaN</td>\n      <td>NaN</td>\n    </tr>\n    <tr>\n      <th>308</th>\n      <td>Nicole P. Stott</td>\n      <td>2000.0</td>\n      <td>18.0</td>\n      <td>Active</td>\n      <td>11/19/1962</td>\n      <td>Albany, NY</td>\n      <td>Female</td>\n      <td>Embry-Riddle Aeronautical University; Universi...</td>\n      <td>Aeronautical Engineering</td>\n      <td>Engineering Management</td>\n      <td>NaN</td>\n      <td>NaN</td>\n      <td>2</td>\n      <td>2477</td>\n      <td>1</td>\n      <td>6.0</td>\n      <td>STS-128/129 (Discovery/Atlantis), STS-133 (Dis...</td>\n      <td>NaN</td>\n      <td>NaN</td>\n    </tr>\n  </tbody>\n</table>\n</div>"
     },
     "metadata": {},
     "execution_count": 6
    }
   ],
   "source": [
    "# random sample with replace\n",
    "\n",
    "df.sample(3, replace=True)"
   ]
  },
  {
   "cell_type": "code",
   "execution_count": 9,
   "metadata": {},
   "outputs": [
    {
     "output_type": "stream",
     "name": "stdout",
     "text": [
      "<class 'pandas.core.frame.DataFrame'>\nRangeIndex: 357 entries, 0 to 356\nData columns (total 19 columns):\n #   Column               Non-Null Count  Dtype  \n---  ------               --------------  -----  \n 0   Name                 357 non-null    object \n 1   Year                 330 non-null    float64\n 2   Group                330 non-null    float64\n 3   Status               357 non-null    object \n 4   Birth Date           357 non-null    object \n 5   Birth Place          357 non-null    object \n 6   Gender               357 non-null    object \n 7   Alma Mater           356 non-null    object \n 8   Undergraduate Major  335 non-null    object \n 9   Graduate Major       298 non-null    object \n 10  Military Rank        207 non-null    object \n 11  Military Branch      211 non-null    object \n 12  Space Flights        357 non-null    int64  \n 13  Space Flight (hr)    357 non-null    int64  \n 14  Space Walks          357 non-null    int64  \n 15  Space Walks (hr)     357 non-null    float64\n 16  Missions             334 non-null    object \n 17  Death Date           52 non-null     object \n 18  Death Mission        16 non-null     object \ndtypes: float64(3), int64(3), object(13)\nmemory usage: 53.1+ KB\n"
     ]
    }
   ],
   "source": [
    "# info of the dataframe\n",
    "\n",
    "df.info()"
   ]
  },
  {
   "cell_type": "code",
   "execution_count": 11,
   "metadata": {},
   "outputs": [
    {
     "output_type": "execute_result",
     "data": {
      "text/plain": [
       "                   count         mean          std     min     25%     50%  \\\n",
       "Year               330.0  1985.106061    13.216147  1959.0  1978.0  1987.0   \n",
       "Group              330.0    11.409091     5.149962     1.0     8.0    12.0   \n",
       "Space Flights      357.0     2.364146     1.428700     0.0     1.0     2.0   \n",
       "Space Flight (hr)  357.0  1249.266106  1896.759857     0.0   289.0   590.0   \n",
       "Space Walks        357.0     1.246499     2.056989     0.0     0.0     0.0   \n",
       "Space Walks (hr)   357.0     7.707283    13.367973     0.0     0.0     0.0   \n",
       "\n",
       "                      75%      max  \n",
       "Year               1996.0   2009.0  \n",
       "Group                16.0     20.0  \n",
       "Space Flights         3.0      7.0  \n",
       "Space Flight (hr)  1045.0  12818.0  \n",
       "Space Walks           2.0     10.0  \n",
       "Space Walks (hr)     12.0     67.0  "
      ],
      "text/html": "<div>\n<style scoped>\n    .dataframe tbody tr th:only-of-type {\n        vertical-align: middle;\n    }\n\n    .dataframe tbody tr th {\n        vertical-align: top;\n    }\n\n    .dataframe thead th {\n        text-align: right;\n    }\n</style>\n<table border=\"1\" class=\"dataframe\">\n  <thead>\n    <tr style=\"text-align: right;\">\n      <th></th>\n      <th>count</th>\n      <th>mean</th>\n      <th>std</th>\n      <th>min</th>\n      <th>25%</th>\n      <th>50%</th>\n      <th>75%</th>\n      <th>max</th>\n    </tr>\n  </thead>\n  <tbody>\n    <tr>\n      <th>Year</th>\n      <td>330.0</td>\n      <td>1985.106061</td>\n      <td>13.216147</td>\n      <td>1959.0</td>\n      <td>1978.0</td>\n      <td>1987.0</td>\n      <td>1996.0</td>\n      <td>2009.0</td>\n    </tr>\n    <tr>\n      <th>Group</th>\n      <td>330.0</td>\n      <td>11.409091</td>\n      <td>5.149962</td>\n      <td>1.0</td>\n      <td>8.0</td>\n      <td>12.0</td>\n      <td>16.0</td>\n      <td>20.0</td>\n    </tr>\n    <tr>\n      <th>Space Flights</th>\n      <td>357.0</td>\n      <td>2.364146</td>\n      <td>1.428700</td>\n      <td>0.0</td>\n      <td>1.0</td>\n      <td>2.0</td>\n      <td>3.0</td>\n      <td>7.0</td>\n    </tr>\n    <tr>\n      <th>Space Flight (hr)</th>\n      <td>357.0</td>\n      <td>1249.266106</td>\n      <td>1896.759857</td>\n      <td>0.0</td>\n      <td>289.0</td>\n      <td>590.0</td>\n      <td>1045.0</td>\n      <td>12818.0</td>\n    </tr>\n    <tr>\n      <th>Space Walks</th>\n      <td>357.0</td>\n      <td>1.246499</td>\n      <td>2.056989</td>\n      <td>0.0</td>\n      <td>0.0</td>\n      <td>0.0</td>\n      <td>2.0</td>\n      <td>10.0</td>\n    </tr>\n    <tr>\n      <th>Space Walks (hr)</th>\n      <td>357.0</td>\n      <td>7.707283</td>\n      <td>13.367973</td>\n      <td>0.0</td>\n      <td>0.0</td>\n      <td>0.0</td>\n      <td>12.0</td>\n      <td>67.0</td>\n    </tr>\n  </tbody>\n</table>\n</div>"
     },
     "metadata": {},
     "execution_count": 11
    }
   ],
   "source": [
    "# describe the data\n",
    "\n",
    "df.describe().T"
   ]
  },
  {
   "cell_type": "code",
   "execution_count": 12,
   "metadata": {},
   "outputs": [
    {
     "output_type": "execute_result",
     "data": {
      "text/plain": [
       "(357, 19)"
      ]
     },
     "metadata": {},
     "execution_count": 12
    }
   ],
   "source": [
    "# shape of the dataframe\n",
    "\n",
    "df.shape"
   ]
  },
  {
   "cell_type": "code",
   "execution_count": 13,
   "metadata": {},
   "outputs": [
    {
     "output_type": "execute_result",
     "data": {
      "text/plain": [
       "                       Year     Group  Space Flights  Space Flight (hr)  \\\n",
       "Year               1.000000  0.980934       0.036420           0.331386   \n",
       "Group              0.980934  1.000000      -0.011386           0.325683   \n",
       "Space Flights      0.036420 -0.011386       1.000000           0.325233   \n",
       "Space Flight (hr)  0.331386  0.325683       0.325233           1.000000   \n",
       "Space Walks        0.210073  0.217891       0.257073           0.472796   \n",
       "Space Walks (hr)   0.253502  0.261384       0.258642           0.454408   \n",
       "\n",
       "                   Space Walks  Space Walks (hr)  \n",
       "Year                  0.210073          0.253502  \n",
       "Group                 0.217891          0.261384  \n",
       "Space Flights         0.257073          0.258642  \n",
       "Space Flight (hr)     0.472796          0.454408  \n",
       "Space Walks           1.000000          0.985755  \n",
       "Space Walks (hr)      0.985755          1.000000  "
      ],
      "text/html": "<div>\n<style scoped>\n    .dataframe tbody tr th:only-of-type {\n        vertical-align: middle;\n    }\n\n    .dataframe tbody tr th {\n        vertical-align: top;\n    }\n\n    .dataframe thead th {\n        text-align: right;\n    }\n</style>\n<table border=\"1\" class=\"dataframe\">\n  <thead>\n    <tr style=\"text-align: right;\">\n      <th></th>\n      <th>Year</th>\n      <th>Group</th>\n      <th>Space Flights</th>\n      <th>Space Flight (hr)</th>\n      <th>Space Walks</th>\n      <th>Space Walks (hr)</th>\n    </tr>\n  </thead>\n  <tbody>\n    <tr>\n      <th>Year</th>\n      <td>1.000000</td>\n      <td>0.980934</td>\n      <td>0.036420</td>\n      <td>0.331386</td>\n      <td>0.210073</td>\n      <td>0.253502</td>\n    </tr>\n    <tr>\n      <th>Group</th>\n      <td>0.980934</td>\n      <td>1.000000</td>\n      <td>-0.011386</td>\n      <td>0.325683</td>\n      <td>0.217891</td>\n      <td>0.261384</td>\n    </tr>\n    <tr>\n      <th>Space Flights</th>\n      <td>0.036420</td>\n      <td>-0.011386</td>\n      <td>1.000000</td>\n      <td>0.325233</td>\n      <td>0.257073</td>\n      <td>0.258642</td>\n    </tr>\n    <tr>\n      <th>Space Flight (hr)</th>\n      <td>0.331386</td>\n      <td>0.325683</td>\n      <td>0.325233</td>\n      <td>1.000000</td>\n      <td>0.472796</td>\n      <td>0.454408</td>\n    </tr>\n    <tr>\n      <th>Space Walks</th>\n      <td>0.210073</td>\n      <td>0.217891</td>\n      <td>0.257073</td>\n      <td>0.472796</td>\n      <td>1.000000</td>\n      <td>0.985755</td>\n    </tr>\n    <tr>\n      <th>Space Walks (hr)</th>\n      <td>0.253502</td>\n      <td>0.261384</td>\n      <td>0.258642</td>\n      <td>0.454408</td>\n      <td>0.985755</td>\n      <td>1.000000</td>\n    </tr>\n  </tbody>\n</table>\n</div>"
     },
     "metadata": {},
     "execution_count": 13
    }
   ],
   "source": [
    "# correlation of df columns\n",
    "\n",
    "df.corr()"
   ]
  },
  {
   "cell_type": "code",
   "execution_count": 14,
   "metadata": {},
   "outputs": [
    {
     "output_type": "execute_result",
     "data": {
      "text/plain": [
       "1996.0    35\n",
       "1978.0    35\n",
       "1998.0    25\n",
       "1990.0    23\n",
       "1966.0    19\n",
       "1995.0    19\n",
       "1980.0    19\n",
       "1992.0    19\n",
       "1984.0    18\n",
       "2000.0    17\n",
       "1987.0    15\n",
       "1963.0    14\n",
       "1985.0    13\n",
       "1967.0    11\n",
       "2004.0    11\n",
       "2009.0     9\n",
       "1962.0     8\n",
       "1969.0     7\n",
       "1959.0     7\n",
       "1965.0     6\n",
       "Name: Year, dtype: int64"
      ]
     },
     "metadata": {},
     "execution_count": 14
    }
   ],
   "source": [
    "# count of individual values\n",
    "\n",
    "df[\"Year\"].value_counts()"
   ]
  },
  {
   "cell_type": "code",
   "execution_count": 15,
   "metadata": {},
   "outputs": [
    {
     "output_type": "execute_result",
     "data": {
      "text/plain": [
       "Name                 Yvonne D. Cagle\n",
       "Year                            2009\n",
       "Group                             20\n",
       "Status                       Retired\n",
       "Birth Date                  9/9/1952\n",
       "Birth Place              Yonkers, NY\n",
       "Gender                          Male\n",
       "Space Flights                      7\n",
       "Space Flight (hr)              12818\n",
       "Space Walks                       10\n",
       "Space Walks (hr)                  67\n",
       "dtype: object"
      ]
     },
     "metadata": {},
     "execution_count": 15
    }
   ],
   "source": [
    "# max of each column\n",
    "\n",
    "df.max()"
   ]
  },
  {
   "cell_type": "code",
   "execution_count": 16,
   "metadata": {},
   "outputs": [
    {
     "output_type": "execute_result",
     "data": {
      "text/plain": [
       "Name                 Alan B. Shepard Jr. \n",
       "Year                                 1959\n",
       "Group                                   1\n",
       "Status                             Active\n",
       "Birth Date                      1/14/1943\n",
       "Birth Place                  Abington, PA\n",
       "Gender                             Female\n",
       "Space Flights                           0\n",
       "Space Flight (hr)                       0\n",
       "Space Walks                             0\n",
       "Space Walks (hr)                        0\n",
       "dtype: object"
      ]
     },
     "metadata": {},
     "execution_count": 16
    }
   ],
   "source": [
    "# min of each column\n",
    "\n",
    "df.min()"
   ]
  },
  {
   "cell_type": "code",
   "execution_count": null,
   "metadata": {},
   "outputs": [],
   "source": []
  }
 ]
}