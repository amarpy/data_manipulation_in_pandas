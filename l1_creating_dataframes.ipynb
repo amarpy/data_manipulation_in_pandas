{
 "metadata": {
  "language_info": {
   "codemirror_mode": {
    "name": "ipython",
    "version": 3
   },
   "file_extension": ".py",
   "mimetype": "text/x-python",
   "name": "python",
   "nbconvert_exporter": "python",
   "pygments_lexer": "ipython3",
   "version": "3.8.6-final"
  },
  "orig_nbformat": 2,
  "kernelspec": {
   "name": "python3",
   "display_name": "Python 3",
   "language": "python"
  }
 },
 "nbformat": 4,
 "nbformat_minor": 2,
 "cells": [
  {
   "source": [
    "# Creating Dataframes"
   ],
   "cell_type": "markdown",
   "metadata": {}
  },
  {
   "cell_type": "code",
   "execution_count": 1,
   "metadata": {},
   "outputs": [],
   "source": [
    "import pandas as pd \n",
    "import numpy as np "
   ]
  },
  {
   "cell_type": "code",
   "execution_count": 2,
   "metadata": {},
   "outputs": [
    {
     "output_type": "stream",
     "name": "stdout",
     "text": [
      "[[0.53449242 0.15554518 0.72794533]\n [0.26772658 0.1314119  0.3405113 ]\n [0.47876654 0.4255213  0.82061199]\n [0.1061948  0.09504576 0.42518628]\n [0.26255167 0.41430297 0.06199731]]\n"
     ]
    }
   ],
   "source": [
    "# creating dataframes using numpy arrays\n",
    "\n",
    "data  = np.random.random(size = (5, 3))\n",
    "print(data)"
   ]
  },
  {
   "cell_type": "code",
   "execution_count": 3,
   "metadata": {},
   "outputs": [
    {
     "output_type": "execute_result",
     "data": {
      "text/plain": [
       "          A         B         C\n",
       "0  0.534492  0.155545  0.727945\n",
       "1  0.267727  0.131412  0.340511\n",
       "2  0.478767  0.425521  0.820612\n",
       "3  0.106195  0.095046  0.425186\n",
       "4  0.262552  0.414303  0.061997"
      ],
      "text/html": "<div>\n<style scoped>\n    .dataframe tbody tr th:only-of-type {\n        vertical-align: middle;\n    }\n\n    .dataframe tbody tr th {\n        vertical-align: top;\n    }\n\n    .dataframe thead th {\n        text-align: right;\n    }\n</style>\n<table border=\"1\" class=\"dataframe\">\n  <thead>\n    <tr style=\"text-align: right;\">\n      <th></th>\n      <th>A</th>\n      <th>B</th>\n      <th>C</th>\n    </tr>\n  </thead>\n  <tbody>\n    <tr>\n      <th>0</th>\n      <td>0.534492</td>\n      <td>0.155545</td>\n      <td>0.727945</td>\n    </tr>\n    <tr>\n      <th>1</th>\n      <td>0.267727</td>\n      <td>0.131412</td>\n      <td>0.340511</td>\n    </tr>\n    <tr>\n      <th>2</th>\n      <td>0.478767</td>\n      <td>0.425521</td>\n      <td>0.820612</td>\n    </tr>\n    <tr>\n      <th>3</th>\n      <td>0.106195</td>\n      <td>0.095046</td>\n      <td>0.425186</td>\n    </tr>\n    <tr>\n      <th>4</th>\n      <td>0.262552</td>\n      <td>0.414303</td>\n      <td>0.061997</td>\n    </tr>\n  </tbody>\n</table>\n</div>"
     },
     "metadata": {},
     "execution_count": 3
    }
   ],
   "source": [
    "df = pd.DataFrame(data, columns=[\"A\", \"B\", \"C\"])\n",
    "df.head()"
   ]
  },
  {
   "cell_type": "code",
   "execution_count": 7,
   "metadata": {},
   "outputs": [
    {
     "output_type": "execute_result",
     "data": {
      "text/plain": [
       "   A     B\n",
       "0  1   Sam\n",
       "1  2  Alex\n",
       "2  3  John"
      ],
      "text/html": "<div>\n<style scoped>\n    .dataframe tbody tr th:only-of-type {\n        vertical-align: middle;\n    }\n\n    .dataframe tbody tr th {\n        vertical-align: top;\n    }\n\n    .dataframe thead th {\n        text-align: right;\n    }\n</style>\n<table border=\"1\" class=\"dataframe\">\n  <thead>\n    <tr style=\"text-align: right;\">\n      <th></th>\n      <th>A</th>\n      <th>B</th>\n    </tr>\n  </thead>\n  <tbody>\n    <tr>\n      <th>0</th>\n      <td>1</td>\n      <td>Sam</td>\n    </tr>\n    <tr>\n      <th>1</th>\n      <td>2</td>\n      <td>Alex</td>\n    </tr>\n    <tr>\n      <th>2</th>\n      <td>3</td>\n      <td>John</td>\n    </tr>\n  </tbody>\n</table>\n</div>"
     },
     "metadata": {},
     "execution_count": 7
    }
   ],
   "source": [
    "# create dataframe from structured numpy array\n",
    "\n",
    "dtype = [(\"A\", np.int), (\"B\", (np.str, 20))]\n",
    "\n",
    "data = np.array([(1, \"Sam\"), (2, \"Alex\"), (3, \"John\")], dtype = dtype)\n",
    "\n",
    "df = pd.DataFrame(data)\n",
    "df"
   ]
  },
  {
   "cell_type": "code",
   "execution_count": 4,
   "metadata": {},
   "outputs": [
    {
     "output_type": "execute_result",
     "data": {
      "text/plain": [
       "   A     B\n",
       "0  1   Sam\n",
       "1  2  Alex\n",
       "2  3  John"
      ],
      "text/html": "<div>\n<style scoped>\n    .dataframe tbody tr th:only-of-type {\n        vertical-align: middle;\n    }\n\n    .dataframe tbody tr th {\n        vertical-align: top;\n    }\n\n    .dataframe thead th {\n        text-align: right;\n    }\n</style>\n<table border=\"1\" class=\"dataframe\">\n  <thead>\n    <tr style=\"text-align: right;\">\n      <th></th>\n      <th>A</th>\n      <th>B</th>\n    </tr>\n  </thead>\n  <tbody>\n    <tr>\n      <th>0</th>\n      <td>1</td>\n      <td>Sam</td>\n    </tr>\n    <tr>\n      <th>1</th>\n      <td>2</td>\n      <td>Alex</td>\n    </tr>\n    <tr>\n      <th>2</th>\n      <td>3</td>\n      <td>John</td>\n    </tr>\n  </tbody>\n</table>\n</div>"
     },
     "metadata": {},
     "execution_count": 4
    }
   ],
   "source": [
    "# creating dataframes by using dictionaries\n",
    "\n",
    "df = pd.DataFrame(data = {\"A\": [1, 2, 3], \"B\": [\"Sam\", \"Alex\", \"John\"]})\n",
    "df"
   ]
  },
  {
   "cell_type": "code",
   "execution_count": 8,
   "metadata": {},
   "outputs": [
    {
     "output_type": "execute_result",
     "data": {
      "text/plain": [
       "   A     B\n",
       "0  1   Sam\n",
       "1  2  Alex\n",
       "2  3  John"
      ],
      "text/html": "<div>\n<style scoped>\n    .dataframe tbody tr th:only-of-type {\n        vertical-align: middle;\n    }\n\n    .dataframe tbody tr th {\n        vertical-align: top;\n    }\n\n    .dataframe thead th {\n        text-align: right;\n    }\n</style>\n<table border=\"1\" class=\"dataframe\">\n  <thead>\n    <tr style=\"text-align: right;\">\n      <th></th>\n      <th>A</th>\n      <th>B</th>\n    </tr>\n  </thead>\n  <tbody>\n    <tr>\n      <th>0</th>\n      <td>1</td>\n      <td>Sam</td>\n    </tr>\n    <tr>\n      <th>1</th>\n      <td>2</td>\n      <td>Alex</td>\n    </tr>\n    <tr>\n      <th>2</th>\n      <td>3</td>\n      <td>John</td>\n    </tr>\n  </tbody>\n</table>\n</div>"
     },
     "metadata": {},
     "execution_count": 8
    }
   ],
   "source": [
    "# less common way of creating dataframe using dictionary\n",
    "\n",
    "data = [{\"A\": 1, \"B\": \"Sam\"}, {\"A\": 2, \"B\": \"Alex\"}, {\"A\": 3, \"B\": \"John\"}]\n",
    "\n",
    "df = pd.DataFrame(data)\n",
    "df"
   ]
  },
  {
   "cell_type": "code",
   "execution_count": null,
   "metadata": {},
   "outputs": [],
   "source": []
  }
 ]
}